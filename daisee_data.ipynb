{
 "cells": [
  {
   "cell_type": "markdown",
   "metadata": {},
   "source": [
    "# Imports"
   ]
  },
  {
   "cell_type": "code",
   "execution_count": 1,
   "metadata": {},
   "outputs": [],
   "source": [
    "import utils.daisee as daisee"
   ]
  },
  {
   "cell_type": "markdown",
   "metadata": {},
   "source": [
    "# DAiSEE Data Pre-processing\n",
    "\n",
    "Our methodology to extract frames from the 9,068 video clips from the DAiSEE dataset is as follows:\n",
    "- Remove ambiguously labelled clips from our sampling i.e. clips where there is not a discerning label\n",
    "- Reduce dataset sample size by sampling each 10 second video clip at 1fps for 10 image frames\n",
    "- Consider missing clips from user extracts as invalid\n",
    "- In the face detection step, remove image frames which could not be detected as having a face and crop image frame to the face bounding box for detected faces \n",
    "- Down-sampled image frames to 48x48 pixels\n",
    "\n",
    "Extract frames from train, validation, and test folders"
   ]
  },
  {
   "cell_type": "code",
   "execution_count": 2,
   "metadata": {},
   "outputs": [
    {
     "name": "stderr",
     "output_type": "stream",
     "text": [
      "Writing Test dataset to disk: 100%|██████████| 21/21 [05:46<00:00, 16.51s/it]\n",
      "Writing Test landmarks, labels, and genders to disk: 100%|██████████| 14510/14510 [22:05<00:00, 10.94it/s]\n"
     ]
    },
    {
     "name": "stdout",
     "output_type": "stream",
     "text": [
      "CompreFace succesfully detected a face 99.8828394210889% of times in the Test set\n",
      "-- Test Split Statistics --\n",
      "Number of males = 1022, Number of females = 429\n",
      "Total number of clips = 1784\n",
      "  Number of invalid clips = 333\n",
      "  Number of valid clips = 1451\n",
      "DAiSEE clip class distribution: {'Boredom': 65, 'Engagement': 1356, 'Frustration': 17, 'Confusion': 13}\n",
      "---------------------------\n",
      "\n"
     ]
    }
   ],
   "source": [
    "test_distribution = daisee.extract_frames(\"Test\")"
   ]
  },
  {
   "cell_type": "code",
   "execution_count": 3,
   "metadata": {},
   "outputs": [
    {
     "name": "stderr",
     "output_type": "stream",
     "text": [
      "Writing Train dataset to disk:  33%|███▎      | 23/70 [06:31<17:04, 21.79s/it]"
     ]
    },
    {
     "name": "stdout",
     "output_type": "stream",
     "text": [
      "Index does not exist at user 210055 at clip 2100552061\n"
     ]
    },
    {
     "name": "stderr",
     "output_type": "stream",
     "text": [
      "Writing Train dataset to disk: 100%|██████████| 70/70 [18:21<00:00, 15.73s/it]\n",
      "Writing Train landmarks, labels, and genders to disk: 100%|██████████| 43410/43410 [1:05:39<00:00, 11.02it/s]\n"
     ]
    },
    {
     "name": "stdout",
     "output_type": "stream",
     "text": [
      "CompreFace succesfully detected a face 99.98848191660908% of times in the Train set\n",
      "-- Train Split Statistics --\n",
      "Number of males = 2951, Number of females = 1390\n",
      "Total number of clips = 5358\n",
      "  Number of invalid clips = 1017\n",
      "  Number of valid clips = 4341\n",
      "DAiSEE clip class distribution: {'Boredom': 213, 'Engagement': 4046, 'Frustration': 34, 'Confusion': 48}\n",
      "---------------------------\n",
      "\n"
     ]
    }
   ],
   "source": [
    "train_distribution = daisee.extract_frames(\"Train\")"
   ]
  },
  {
   "cell_type": "code",
   "execution_count": 4,
   "metadata": {},
   "outputs": [
    {
     "name": "stderr",
     "output_type": "stream",
     "text": [
      "Writing Validation dataset to disk: 100%|██████████| 22/22 [04:00<00:00, 10.93s/it]\n",
      "Writing Validation landmarks, labels, and genders to disk: 100%|██████████| 9710/9710 [14:11<00:00, 11.41it/s]\n"
     ]
    },
    {
     "name": "stdout",
     "output_type": "stream",
     "text": [
      "CompreFace succesfully detected a face 99.94850669412976% of times in the Validation set\n",
      "-- Validation Split Statistics --\n",
      "Number of males = 768, Number of females = 203\n",
      "Total number of clips = 1429\n",
      "  Number of invalid clips = 458\n",
      "  Number of valid clips = 971\n",
      "DAiSEE clip class distribution: {'Boredom': 152, 'Engagement': 795, 'Frustration': 14, 'Confusion': 10}\n",
      "---------------------------\n",
      "\n"
     ]
    }
   ],
   "source": [
    "val_distribution = daisee.extract_frames(\"Validation\")"
   ]
  }
 ],
 "metadata": {
  "kernelspec": {
   "display_name": "projects",
   "language": "python",
   "name": "python3"
  },
  "language_info": {
   "codemirror_mode": {
    "name": "ipython",
    "version": 3
   },
   "file_extension": ".py",
   "mimetype": "text/x-python",
   "name": "python",
   "nbconvert_exporter": "python",
   "pygments_lexer": "ipython3",
   "version": "3.10.11"
  }
 },
 "nbformat": 4,
 "nbformat_minor": 2
}
