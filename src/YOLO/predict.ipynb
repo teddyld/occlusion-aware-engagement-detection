{
 "cells": [
  {
   "cell_type": "markdown",
   "metadata": {},
   "source": [
    "### 0. Imports"
   ]
  },
  {
   "cell_type": "code",
   "execution_count": 1,
   "metadata": {},
   "outputs": [],
   "source": [
    "from ultralytics import YOLO\n",
    "import numpy as np\n",
    "import config\n",
    "import os"
   ]
  },
  {
   "cell_type": "markdown",
   "metadata": {},
   "source": [
    "### 1. Predict on image"
   ]
  },
  {
   "cell_type": "code",
   "execution_count": 2,
   "metadata": {},
   "outputs": [],
   "source": [
    "IMAGE_PATH = os.path.abspath('./') + '/../../data/FER-2013/val/angry/PrivateTest_88305.jpg'"
   ]
  },
  {
   "cell_type": "code",
   "execution_count": null,
   "metadata": {},
   "outputs": [],
   "source": [
    "model = YOLO(config.MODEL_PATH)\n",
    "\n",
    "results = model(IMAGE_PATH)"
   ]
  },
  {
   "cell_type": "markdown",
   "metadata": {},
   "source": [
    "### 2. Prediction results"
   ]
  },
  {
   "cell_type": "code",
   "execution_count": 4,
   "metadata": {},
   "outputs": [],
   "source": [
    "names = results[0].names\n",
    "confidences = results[0].probs.data.tolist()"
   ]
  },
  {
   "cell_type": "code",
   "execution_count": 5,
   "metadata": {},
   "outputs": [
    {
     "name": "stdout",
     "output_type": "stream",
     "text": [
      "CLASS -> CONFIDENCE\n",
      "angry -> 0.14540109038352966\n",
      "disgust -> 0.0017746600788086653\n",
      "fear -> 0.239395409822464\n",
      "happy -> 0.002393761882558465\n",
      "neutral -> 0.15911301970481873\n",
      "sad -> 0.44332054257392883\n",
      "surprise -> 0.008601532317698002\n"
     ]
    }
   ],
   "source": [
    "print('CLASS -> CONFIDENCE')\n",
    "for i, confidence in enumerate(confidences):\n",
    "    print(f\"{names[i]} -> {confidence}\")"
   ]
  },
  {
   "cell_type": "code",
   "execution_count": 6,
   "metadata": {},
   "outputs": [
    {
     "name": "stdout",
     "output_type": "stream",
     "text": [
      "The predicted class was 'sad' with a confidence of 0.44332054257392883\n"
     ]
    }
   ],
   "source": [
    "print(f\"The predicted class was '{names[np.argmax(confidences)]}' with a confidence of {max(confidences)}\")"
   ]
  }
 ],
 "metadata": {
  "kernelspec": {
   "display_name": "projects",
   "language": "python",
   "name": "python3"
  },
  "language_info": {
   "codemirror_mode": {
    "name": "ipython",
    "version": 3
   },
   "file_extension": ".py",
   "mimetype": "text/x-python",
   "name": "python",
   "nbconvert_exporter": "python",
   "pygments_lexer": "ipython3",
   "version": "3.10.11"
  }
 },
 "nbformat": 4,
 "nbformat_minor": 2
}
