{
 "cells": [
  {
   "cell_type": "markdown",
   "metadata": {},
   "source": [
    "### 0. Imports"
   ]
  },
  {
   "cell_type": "code",
   "execution_count": 1,
   "metadata": {},
   "outputs": [
    {
     "name": "stdout",
     "output_type": "stream",
     "text": [
      "\n",
      "VERSION INFORMATION\n",
      "\t- OPENCV VERSION: 4.8.0\n",
      "\t– NUMPY VERSION: 1.26.3\n",
      "\t– ALBUMENTATIONS VERSION: 1.4.6\n"
     ]
    }
   ],
   "source": [
    "import numpy as np\n",
    "import cv2\n",
    "import albumentations as A\n",
    "from PIL import Image\n",
    "import matplotlib.pyplot as plt\n",
    "import config\n",
    "import os\n",
    "\n",
    "print(\"\\nVERSION INFORMATION\")\n",
    "print(f\"\\t- OPENCV VERSION: {cv2.__version__}\")\n",
    "print(f\"\\t– NUMPY VERSION: {np.__version__}\")\n",
    "print(f\"\\t– ALBUMENTATIONS VERSION: {A.__version__}\")"
   ]
  },
  {
   "cell_type": "markdown",
   "metadata": {},
   "source": [
    "### 1. Visualise Function"
   ]
  },
  {
   "cell_type": "code",
   "execution_count": 2,
   "metadata": {},
   "outputs": [],
   "source": [
    "def visualise_augmentation(original_image, augmented_image, save_file=None):\n",
    "    f, ax = plt.subplots(1, 2, figsize=(5, 5))\n",
    "    ax[0].imshow(original_image)\n",
    "    ax[0].set_title('Original image')\n",
    "    ax[1].imshow(augmented_image)\n",
    "    ax[1].set_title('Augmented image')\n",
    "    f.tight_layout()\n",
    "    \n",
    "    if save_file is not None:\n",
    "        f.savefig(save_file)"
   ]
  },
  {
   "cell_type": "markdown",
   "metadata": {},
   "source": [
    "### 2. Augmentation Pipeline"
   ]
  },
  {
   "cell_type": "code",
   "execution_count": 3,
   "metadata": {},
   "outputs": [],
   "source": [
    "transform = A.Compose([\n",
    "    A.ShiftScaleRotate(p=0.5),\n",
    "    A.OneOf([\n",
    "        A.RandomBrightnessContrast(brightness_limit=(-0.2, 0.2), contrast_limit=(0, 0), p=1),\n",
    "        A.RandomBrightnessContrast(brightness_limit=(0, 0), contrast_limit=(-0.2, 0.2), p=1),\n",
    "    ], p=0.5)\n",
    "])"
   ]
  },
  {
   "cell_type": "code",
   "execution_count": null,
   "metadata": {},
   "outputs": [],
   "source": [
    "transform = A.Compose([\n",
    "        A.RandomRotate90(),\n",
    "        A.Flip(),\n",
    "        A.Transpose(),\n",
    "        A.GaussNoise(),\n",
    "        A.OneOf([\n",
    "            A.MotionBlur(p=.2),\n",
    "            A.MedianBlur(blur_limit=3, p=0.1),\n",
    "            A.Blur(blur_limit=3, p=0.1),\n",
    "        ], p=0.2),\n",
    "        A.ShiftScaleRotate(shift_limit=0.0625, scale_limit=0.2, rotate_limit=45, p=0.2),\n",
    "        A.OneOf([\n",
    "            A.OpticalDistortion(p=0.3),\n",
    "            A.GridDistortion(p=.1),\n",
    "        ], p=0.2),\n",
    "        A.OneOf([\n",
    "            A.CLAHE(clip_limit=2),\n",
    "            A.RandomBrightnessContrast(),\n",
    "        ], p=0.3),\n",
    "        A.HueSaturationValue(p=0.3),\n",
    "    ])\n"
   ]
  },
  {
   "cell_type": "code",
   "execution_count": 3,
   "metadata": {},
   "outputs": [],
   "source": [
    "NUM_ITERATIONS = 2 # Create NUM_ITERATION augmentations of the original image"
   ]
  },
  {
   "cell_type": "code",
   "execution_count": 4,
   "metadata": {},
   "outputs": [],
   "source": [
    "DATA_PATH = '../data/Augmentation'"
   ]
  },
  {
   "cell_type": "code",
   "execution_count": 5,
   "metadata": {},
   "outputs": [
    {
     "name": "stdout",
     "output_type": "stream",
     "text": [
      "Augmented file cat_augmented0.jpg has been replaced\n",
      "Augmented file dog_augmented0.jpg has been replaced\n"
     ]
    }
   ],
   "source": [
    "for cls in os.listdir(DATA_PATH):\n",
    "    CLS_PATH = DATA_PATH + '/' + cls\n",
    "    currentCls = os.listdir(CLS_PATH)\n",
    "    for filename in currentCls:\n",
    "        pillow_image = Image.open(CLS_PATH + '/' + filename)\n",
    "        image = np.array(pillow_image)\n",
    "        \n",
    "        # Create NUM_ITERATION augmentations of 'img'\n",
    "        for iter in range(NUM_ITERATIONS):\n",
    "            if f'_augmented{iter}' in filename:\n",
    "                print(f\"Augmented file {filename} has been replaced\")\n",
    "                break\n",
    "\n",
    "            # Generate augmented filename\n",
    "            split = filename.split('.')\n",
    "            transform_filename = f'{split[0]}_augmented{iter}.{split[1]}'\n",
    "            \n",
    "            # Perform augmentation (transform)\n",
    "            transformed_image = transform(image=image)['image']\n",
    "    \n",
    "            # Convert image back to BGR format\n",
    "            transformed_image = cv2.cvtColor(transformed_image, cv2.COLOR_RGB2BGR)\n",
    "            \n",
    "            # Write new augmented image to class folder\n",
    "            cv2.imwrite(os.path.join(CLS_PATH, transform_filename), transformed_image)"
   ]
  }
 ],
 "metadata": {
  "kernelspec": {
   "display_name": "projects",
   "language": "python",
   "name": "python3"
  },
  "language_info": {
   "codemirror_mode": {
    "name": "ipython",
    "version": 3
   },
   "file_extension": ".py",
   "mimetype": "text/x-python",
   "name": "python",
   "nbconvert_exporter": "python",
   "pygments_lexer": "ipython3",
   "version": "3.10.11"
  }
 },
 "nbformat": 4,
 "nbformat_minor": 2
}
