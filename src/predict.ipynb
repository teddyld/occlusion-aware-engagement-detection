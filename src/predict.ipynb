{
 "cells": [
  {
   "cell_type": "markdown",
   "metadata": {},
   "source": [
    "### 0. Imports"
   ]
  },
  {
   "cell_type": "code",
   "execution_count": 2,
   "metadata": {},
   "outputs": [],
   "source": [
    "from ultralytics import YOLO\n",
    "import numpy as np\n",
    "import config\n",
    "import os"
   ]
  },
  {
   "cell_type": "markdown",
   "metadata": {},
   "source": [
    "### 1. Predict on image"
   ]
  },
  {
   "cell_type": "code",
   "execution_count": 3,
   "metadata": {},
   "outputs": [],
   "source": [
    "IMAGE_PATH = os.path.abspath('./') + '/../data/FER-2013/val/angry/PrivateTest_88305.jpg'"
   ]
  },
  {
   "cell_type": "code",
   "execution_count": 5,
   "metadata": {},
   "outputs": [
    {
     "name": "stdout",
     "output_type": "stream",
     "text": [
      "\n",
      "image 1/1 /home/vincent/COMP/projects/occlusion-aware-engagement-detection/src/../data/FER-2013/val/angry/PrivateTest_88305.jpg: 64x64 sad 0.39, neutral 0.21, fear 0.20, angry 0.18, surprise 0.01, 3.3ms\n",
      "Speed: 1.5ms preprocess, 3.3ms inference, 0.0ms postprocess per image at shape (1, 3, 64, 64)\n"
     ]
    }
   ],
   "source": [
    "model = YOLO(config.MODEL_PATH)\n",
    "\n",
    "results = model(IMAGE_PATH)"
   ]
  },
  {
   "cell_type": "markdown",
   "metadata": {},
   "source": [
    "### 2. Prediction results"
   ]
  },
  {
   "cell_type": "code",
   "execution_count": 22,
   "metadata": {},
   "outputs": [],
   "source": [
    "names = results[0].names\n",
    "confidences = results[0].probs.data.tolist()"
   ]
  },
  {
   "cell_type": "code",
   "execution_count": 21,
   "metadata": {},
   "outputs": [
    {
     "name": "stdout",
     "output_type": "stream",
     "text": [
      "CLASS -> CONFIDENCE\n",
      "angry -> 0.1796879768371582\n",
      "disgust -> 0.00502734212204814\n",
      "fear -> 0.20283560454845428\n",
      "happy -> 0.003253321163356304\n",
      "neutral -> 0.20949290692806244\n",
      "sad -> 0.3878243565559387\n",
      "surprise -> 0.011878480203449726\n"
     ]
    }
   ],
   "source": [
    "print('CLASS -> CONFIDENCE')\n",
    "for i, confidence in enumerate(confidences):\n",
    "    print(f\"{names[i]} -> {confidence}\")"
   ]
  },
  {
   "cell_type": "code",
   "execution_count": 15,
   "metadata": {},
   "outputs": [
    {
     "name": "stdout",
     "output_type": "stream",
     "text": [
      "The predicted class was 'sad' with a confidence of 0.3878243565559387\n"
     ]
    }
   ],
   "source": [
    "print(f\"The predicted class was '{names[np.argmax(confidences)]}' with a confidence of {max(confidences)}\")"
   ]
  }
 ],
 "metadata": {
  "kernelspec": {
   "display_name": "projects",
   "language": "python",
   "name": "python3"
  },
  "language_info": {
   "codemirror_mode": {
    "name": "ipython",
    "version": 3
   },
   "file_extension": ".py",
   "mimetype": "text/x-python",
   "name": "python",
   "nbconvert_exporter": "python",
   "pygments_lexer": "ipython3",
   "version": "3.10.11"
  }
 },
 "nbformat": 4,
 "nbformat_minor": 2
}
