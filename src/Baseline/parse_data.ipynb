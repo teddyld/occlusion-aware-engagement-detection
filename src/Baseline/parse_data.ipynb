{
 "cells": [
  {
   "cell_type": "code",
   "execution_count": 1,
   "metadata": {},
   "outputs": [],
   "source": [
    "import os\n",
    "import config\n",
    "import pandas as pd\n",
    "import numpy as np\n",
    "import cv2\n",
    "from tqdm import tqdm"
   ]
  },
  {
   "cell_type": "code",
   "execution_count": 2,
   "metadata": {},
   "outputs": [],
   "source": [
    "# Load data from csv file \n",
    "df_data = pd.read_csv(config.CSV_PATH)"
   ]
  },
  {
   "cell_type": "code",
   "execution_count": 3,
   "metadata": {},
   "outputs": [],
   "source": [
    "def stringToImage(s):\n",
    "    # Convert pixel values in string format to a np array\n",
    "    image = np.array([int(x) for x in s.split(' ')]).reshape(48, 48)\n",
    "    # Resize image to higher resolution\n",
    "    image = cv2.resize(np.float32(image), dsize=(200, 200), interpolation=cv2.INTER_CUBIC)\n",
    "    # Convert back to uint8\n",
    "    image = np.uint8(image)\n",
    "    # Convert from 1 channel to 3 channels\n",
    "    return np.stack((image,)*3, axis=-1)\n",
    "df_data[' pixels'] = df_data[' pixels'].apply(lambda s: stringToImage(s))"
   ]
  },
  {
   "cell_type": "code",
   "execution_count": 4,
   "metadata": {},
   "outputs": [],
   "source": [
    "data_split = {\n",
    "    'train': df_data[df_data[' Usage'] == 'Training'],\n",
    "    'val': df_data[df_data[' Usage'] == 'PublicTest'],\n",
    "    'test': df_data[df_data[' Usage'] == 'PrivateTest']\n",
    "}"
   ]
  },
  {
   "cell_type": "code",
   "execution_count": 5,
   "metadata": {},
   "outputs": [],
   "source": [
    "def parse_data(data_split):\n",
    "    for ttv, data in data_split.items():\n",
    "        images = data[' pixels'].tolist()\n",
    "        labels = data['emotion'].tolist()\n",
    "        \n",
    "        # Write images to disk\n",
    "        i = 0\n",
    "        for image in tqdm(images):\n",
    "            image_path = os.path.join(config.DATA_PATH, ttv, str(ttv) + '_' + str(i) + '.jpg')\n",
    "            cv2.imwrite(image_path, image)\n",
    "            i += 1\n",
    "\n",
    "        # Write labels to disk\n",
    "        np.save(os.path.join(config.DATA_PATH, 'annotations', str(ttv) + '_' + 'labels.npy'), labels)"
   ]
  },
  {
   "cell_type": "code",
   "execution_count": 6,
   "metadata": {},
   "outputs": [
    {
     "name": "stderr",
     "output_type": "stream",
     "text": [
      "100%|██████████| 28709/28709 [00:15<00:00, 1848.97it/s]\n",
      "100%|██████████| 3589/3589 [00:01<00:00, 1916.79it/s]\n",
      "100%|██████████| 3589/3589 [00:01<00:00, 1859.75it/s]\n"
     ]
    }
   ],
   "source": [
    "\"\"\" \n",
    "Requires file structure\n",
    "    /data\n",
    "        /FER-2013\n",
    "            /train\n",
    "            /val\n",
    "            /test\n",
    "            /annotations\n",
    "            /icml_face_data.csv\n",
    "\"\"\"\n",
    "\n",
    "parse_data(data_split)"
   ]
  }
 ],
 "metadata": {
  "kernelspec": {
   "display_name": "projects",
   "language": "python",
   "name": "python3"
  },
  "language_info": {
   "codemirror_mode": {
    "name": "ipython",
    "version": 3
   },
   "file_extension": ".py",
   "mimetype": "text/x-python",
   "name": "python",
   "nbconvert_exporter": "python",
   "pygments_lexer": "ipython3",
   "version": "3.10.11"
  }
 },
 "nbformat": 4,
 "nbformat_minor": 2
}
